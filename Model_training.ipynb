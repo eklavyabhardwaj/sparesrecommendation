{
 "cells": [
  {
   "cell_type": "code",
   "execution_count": 1,
   "id": "0e637673",
   "metadata": {},
   "outputs": [],
   "source": [
    "import pandas as pd\n",
    "from sklearn.ensemble import RandomForestClassifier\n",
    "import pickle"
   ]
  },
  {
   "cell_type": "code",
   "execution_count": 2,
   "id": "f228a601",
   "metadata": {},
   "outputs": [],
   "source": [
    "# Read dataset\n",
    "df = pd.read_excel(\"pump_data.xlsx\")"
   ]
  },
  {
   "cell_type": "code",
   "execution_count": 3,
   "id": "c94892ad",
   "metadata": {},
   "outputs": [
    {
     "data": {
      "text/html": [
       "<div>\n",
       "<style scoped>\n",
       "    .dataframe tbody tr th:only-of-type {\n",
       "        vertical-align: middle;\n",
       "    }\n",
       "\n",
       "    .dataframe tbody tr th {\n",
       "        vertical-align: top;\n",
       "    }\n",
       "\n",
       "    .dataframe thead th {\n",
       "        text-align: right;\n",
       "    }\n",
       "</style>\n",
       "<table border=\"1\" class=\"dataframe\">\n",
       "  <thead>\n",
       "    <tr style=\"text-align: right;\">\n",
       "      <th></th>\n",
       "      <th>Pump</th>\n",
       "      <th>RPM</th>\n",
       "      <th>Tube Size</th>\n",
       "      <th>Flow Rate</th>\n",
       "    </tr>\n",
       "  </thead>\n",
       "  <tbody>\n",
       "    <tr>\n",
       "      <th>0</th>\n",
       "      <td>EPP-50V</td>\n",
       "      <td>1.0</td>\n",
       "      <td>1x4</td>\n",
       "      <td>0.2</td>\n",
       "    </tr>\n",
       "    <tr>\n",
       "      <th>1</th>\n",
       "      <td>EPP-50V</td>\n",
       "      <td>1.0</td>\n",
       "      <td>2x5</td>\n",
       "      <td>0.8</td>\n",
       "    </tr>\n",
       "    <tr>\n",
       "      <th>2</th>\n",
       "      <td>EPP-50V</td>\n",
       "      <td>1.0</td>\n",
       "      <td>3x6</td>\n",
       "      <td>1.1</td>\n",
       "    </tr>\n",
       "    <tr>\n",
       "      <th>3</th>\n",
       "      <td>EPP-50V</td>\n",
       "      <td>1.0</td>\n",
       "      <td>4x7</td>\n",
       "      <td>1.8</td>\n",
       "    </tr>\n",
       "    <tr>\n",
       "      <th>4</th>\n",
       "      <td>EPP-50V</td>\n",
       "      <td>50.0</td>\n",
       "      <td>1x4</td>\n",
       "      <td>4.9</td>\n",
       "    </tr>\n",
       "  </tbody>\n",
       "</table>\n",
       "</div>"
      ],
      "text/plain": [
       "      Pump   RPM Tube Size  Flow Rate\n",
       "0  EPP-50V   1.0       1x4        0.2\n",
       "1  EPP-50V   1.0       2x5        0.8\n",
       "2  EPP-50V   1.0       3x6        1.1\n",
       "3  EPP-50V   1.0       4x7        1.8\n",
       "4  EPP-50V  50.0       1x4        4.9"
      ]
     },
     "execution_count": 3,
     "metadata": {},
     "output_type": "execute_result"
    }
   ],
   "source": [
    "df.head()"
   ]
  },
  {
   "cell_type": "code",
   "execution_count": 4,
   "id": "5d7cea88",
   "metadata": {},
   "outputs": [],
   "source": [
    "df.dropna(subset=['Flow Rate'], inplace=True)"
   ]
  },
  {
   "cell_type": "code",
   "execution_count": 5,
   "id": "265eabb0",
   "metadata": {},
   "outputs": [],
   "source": [
    "# Assuming df is our DataFrame\n",
    "X = df[['RPM', 'Tube Size', 'Flow Rate']]\n",
    "y = df['Pump']"
   ]
  },
  {
   "cell_type": "code",
   "execution_count": 6,
   "id": "4fd1ed32",
   "metadata": {},
   "outputs": [
    {
     "name": "stderr",
     "output_type": "stream",
     "text": [
      "C:\\Users\\Eklavya\\AppData\\Local\\Temp\\ipykernel_20044\\537087680.py:2: SettingWithCopyWarning: \n",
      "A value is trying to be set on a copy of a slice from a DataFrame.\n",
      "Try using .loc[row_indexer,col_indexer] = value instead\n",
      "\n",
      "See the caveats in the documentation: https://pandas.pydata.org/pandas-docs/stable/user_guide/indexing.html#returning-a-view-versus-a-copy\n",
      "  X['Tube Size'] = X['Tube Size'].apply(lambda x: float('.'.join(x.split('x'))))\n"
     ]
    }
   ],
   "source": [
    "# Converting tube size to a simple numeric feature (e.g., \"25x35\" becomes 25.35)\n",
    "X['Tube Size'] = X['Tube Size'].apply(lambda x: float('.'.join(x.split('x'))))"
   ]
  },
  {
   "cell_type": "code",
   "execution_count": 8,
   "id": "e314ee44",
   "metadata": {},
   "outputs": [],
   "source": [
    "rf = RandomForestClassifier()\n",
    "rf.fit(X, y)\n",
    "\n",
    "filename = 'pump_model_rf.pkl'\n",
    "pickle.dump(rf, open(filename, 'wb'))"
   ]
  },
  {
   "cell_type": "code",
   "execution_count": 9,
   "id": "ba2f9c19",
   "metadata": {},
   "outputs": [],
   "source": [
    "with open('model.pkl', 'wb') as f:\n",
    "    pickle.dump(rf, f)"
   ]
  },
  {
   "cell_type": "code",
   "execution_count": null,
   "id": "d0ed899f",
   "metadata": {},
   "outputs": [],
   "source": []
  }
 ],
 "metadata": {
  "kernelspec": {
   "display_name": "Python 3 (ipykernel)",
   "language": "python",
   "name": "python3"
  },
  "language_info": {
   "codemirror_mode": {
    "name": "ipython",
    "version": 3
   },
   "file_extension": ".py",
   "mimetype": "text/x-python",
   "name": "python",
   "nbconvert_exporter": "python",
   "pygments_lexer": "ipython3",
   "version": "3.11.4"
  }
 },
 "nbformat": 4,
 "nbformat_minor": 5
}
